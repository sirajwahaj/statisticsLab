{
 "cells": [
  {
   "cell_type": "code",
   "execution_count": 221,
   "metadata": {},
   "outputs": [],
   "source": [
    "import pandas as pd\n",
    "import matplotlib.pyplot as plt\n",
    "import seaborn as sns\n",
    "import numpy as np\n",
    "import sklearn\n",
    "from sklearn.linear_model import LinearRegression\n",
    "from sklearn.metrics import r2_score\n",
    "import statsmodels.api as sm\n",
    "from scipy.stats import mannwhitneyu\n",
    "from scipy.stats import kruskal\n",
    "\n",
    "from scipy import stats\n",
    "sns.set()"
   ]
  },
  {
   "cell_type": "code",
   "execution_count": 204,
   "metadata": {},
   "outputs": [
    {
     "name": "stdout",
     "output_type": "stream",
     "text": [
      "age: 1 null values\n",
      "years: 1 null values\n",
      "commit: 2 null values\n",
      "satis: 2 null values\n",
      "prody: 1 null values\n",
      "absence: 1 null values\n",
      "income: 2 null values\n",
      "Dataset with mean imputation: (70, 15)\n",
      "Dataset with rows removed: (61, 15)\n"
     ]
    },
    {
     "data": {
      "text/html": [
       "<div>\n",
       "<style scoped>\n",
       "    .dataframe tbody tr th:only-of-type {\n",
       "        vertical-align: middle;\n",
       "    }\n",
       "\n",
       "    .dataframe tbody tr th {\n",
       "        vertical-align: top;\n",
       "    }\n",
       "\n",
       "    .dataframe thead th {\n",
       "        text-align: right;\n",
       "    }\n",
       "</style>\n",
       "<table border=\"1\" class=\"dataframe\">\n",
       "  <thead>\n",
       "    <tr style=\"text-align: right;\">\n",
       "      <th></th>\n",
       "      <th>Id</th>\n",
       "      <th>ethnicgp</th>\n",
       "      <th>gender</th>\n",
       "      <th>age</th>\n",
       "      <th>years</th>\n",
       "      <th>commit</th>\n",
       "      <th>satis</th>\n",
       "      <th>autonom</th>\n",
       "      <th>routine</th>\n",
       "      <th>attend</th>\n",
       "      <th>skill</th>\n",
       "      <th>prody</th>\n",
       "      <th>qual</th>\n",
       "      <th>absence</th>\n",
       "      <th>income</th>\n",
       "    </tr>\n",
       "  </thead>\n",
       "  <tbody>\n",
       "    <tr>\n",
       "      <th>0</th>\n",
       "      <td>1</td>\n",
       "      <td>1</td>\n",
       "      <td>1</td>\n",
       "      <td>29.0</td>\n",
       "      <td>1.0</td>\n",
       "      <td>4.0</td>\n",
       "      <td>10.838235</td>\n",
       "      <td>10</td>\n",
       "      <td>9</td>\n",
       "      <td>2</td>\n",
       "      <td>3</td>\n",
       "      <td>3.246377</td>\n",
       "      <td>1</td>\n",
       "      <td>7.0</td>\n",
       "      <td>16.6</td>\n",
       "    </tr>\n",
       "    <tr>\n",
       "      <th>1</th>\n",
       "      <td>2</td>\n",
       "      <td>2</td>\n",
       "      <td>1</td>\n",
       "      <td>26.0</td>\n",
       "      <td>5.0</td>\n",
       "      <td>2.0</td>\n",
       "      <td>10.838235</td>\n",
       "      <td>7</td>\n",
       "      <td>15</td>\n",
       "      <td>1</td>\n",
       "      <td>3</td>\n",
       "      <td>4.000000</td>\n",
       "      <td>4</td>\n",
       "      <td>8.0</td>\n",
       "      <td>14.6</td>\n",
       "    </tr>\n",
       "    <tr>\n",
       "      <th>2</th>\n",
       "      <td>3</td>\n",
       "      <td>3</td>\n",
       "      <td>1</td>\n",
       "      <td>40.0</td>\n",
       "      <td>5.0</td>\n",
       "      <td>4.0</td>\n",
       "      <td>15.000000</td>\n",
       "      <td>7</td>\n",
       "      <td>8</td>\n",
       "      <td>1</td>\n",
       "      <td>4</td>\n",
       "      <td>3.000000</td>\n",
       "      <td>4</td>\n",
       "      <td>0.0</td>\n",
       "      <td>17.8</td>\n",
       "    </tr>\n",
       "    <tr>\n",
       "      <th>3</th>\n",
       "      <td>4</td>\n",
       "      <td>3</td>\n",
       "      <td>1</td>\n",
       "      <td>46.0</td>\n",
       "      <td>15.0</td>\n",
       "      <td>2.0</td>\n",
       "      <td>7.000000</td>\n",
       "      <td>7</td>\n",
       "      <td>10</td>\n",
       "      <td>2</td>\n",
       "      <td>3</td>\n",
       "      <td>3.000000</td>\n",
       "      <td>4</td>\n",
       "      <td>4.0</td>\n",
       "      <td>16.4</td>\n",
       "    </tr>\n",
       "    <tr>\n",
       "      <th>4</th>\n",
       "      <td>5</td>\n",
       "      <td>2</td>\n",
       "      <td>2</td>\n",
       "      <td>63.0</td>\n",
       "      <td>36.0</td>\n",
       "      <td>4.0</td>\n",
       "      <td>14.000000</td>\n",
       "      <td>11</td>\n",
       "      <td>18</td>\n",
       "      <td>1</td>\n",
       "      <td>3</td>\n",
       "      <td>5.000000</td>\n",
       "      <td>3</td>\n",
       "      <td>0.0</td>\n",
       "      <td>18.6</td>\n",
       "    </tr>\n",
       "  </tbody>\n",
       "</table>\n",
       "</div>"
      ],
      "text/plain": [
       "   Id  ethnicgp  gender   age  years  commit      satis  autonom  routine  \\\n",
       "0   1         1       1  29.0    1.0     4.0  10.838235       10        9   \n",
       "1   2         2       1  26.0    5.0     2.0  10.838235        7       15   \n",
       "2   3         3       1  40.0    5.0     4.0  15.000000        7        8   \n",
       "3   4         3       1  46.0   15.0     2.0   7.000000        7       10   \n",
       "4   5         2       2  63.0   36.0     4.0  14.000000       11       18   \n",
       "\n",
       "   attend  skill     prody  qual  absence  income  \n",
       "0       2      3  3.246377     1      7.0    16.6  \n",
       "1       1      3  4.000000     4      8.0    14.6  \n",
       "2       1      4  3.000000     4      0.0    17.8  \n",
       "3       2      3  3.000000     4      4.0    16.4  \n",
       "4       1      3  5.000000     3      0.0    18.6  "
      ]
     },
     "execution_count": 204,
     "metadata": {},
     "output_type": "execute_result"
    }
   ],
   "source": [
    "data_set = pd.read_csv('Data_source.csv', delimiter=';')\n",
    "#data_set = pd.read_csv(\"Data_source.csv\", sep=\";\" , decimal=',', na_values='')\n",
    "data_set.columns = ['Id','ethnicgp', 'gender', 'age', 'years', 'commit', \n",
    "'satis', 'autonom', 'routine', 'attend', 'skill', 'prody', 'qual', 'absence', 'income']\n",
    "\n",
    "\n",
    "\n",
    "#clean dataset\n",
    "null_values = data_set.isnull().sum()\n",
    "\n",
    "# Filter and display only the columns with at least one null value\n",
    "columns_with_null = null_values[null_values > 0]\n",
    "\n",
    "for column, null_count in columns_with_null.items():\n",
    "    print(f\"{column}: {null_count} null values\")\n",
    "\n",
    "# Convert 'income' from string with commas to float\n",
    "data_set['income'] = data_set['income'].str.replace(',', '.').astype(float)\n",
    "\n",
    "# Replace empty strings with NaN for proper handling of missing values\n",
    "data_set.replace('', pd.NA, inplace=True)\n",
    "\n",
    "# Create dataset with missing values replaced by the mean\n",
    "data_set_with_mean = data_set.copy()\n",
    "for column in data_set_with_mean.columns:\n",
    "    if data_set_with_mean[column].isnull().sum() > 0:  # Only fill columns with null values\n",
    "        data_set_with_mean[column] = data_set_with_mean[column].fillna(data_set_with_mean[column].mean())\n",
    "\n",
    "\n",
    "# Save the datasets\n",
    "data_set_with_mean.to_csv('data_set_with_mean.csv', index=False)\n",
    "\n",
    "# Display the shape of the new datasets\n",
    "print(f\"Dataset with mean imputation: {data_set_with_mean.shape}\")\n",
    "\n",
    "data_cleaned = data_set.dropna()\n",
    "print(f\"Dataset with rows removed: {data_cleaned.shape}\")\n",
    "\n",
    "\n",
    "data_set_with_mean.head()\n"
   ]
  },
  {
   "cell_type": "code",
   "execution_count": null,
   "metadata": {},
   "outputs": [],
   "source": [
    "plt.figure(figsize=(8,3))\n",
    "sns.countplot(x='gender', data= data_set)\n",
    "plt.title('Gender Distribution')\n",
    "plt.xlabel('Gender (1 = Male, 2 = Female)')\n",
    "plt.ylabel('Count')\n",
    "plt.show()"
   ]
  },
  {
   "cell_type": "code",
   "execution_count": null,
   "metadata": {},
   "outputs": [],
   "source": [
    "ethnic_counts = data_set['ethnicgp'].value_counts()\n",
    "ethnic_labels = ['White', 'Asian', 'West Indian', 'African']\n",
    "colors = ['#ff9999', '#66b3ff', '#99ff99', '#ffcc99']\n",
    "explode = (0.05, 0, 0, 0)\n",
    "plt.figure(figsize = (6,7))\n",
    "\n",
    "wedges, texts, autotexts = plt.pie(\n",
    "    ethnic_counts,\n",
    "    labels=None, \n",
    "    autopct='%1.1f%%',\n",
    "    startangle=150,\n",
    "    colors=colors,\n",
    "    explode=explode,\n",
    "    shadow=True\n",
    ")\n",
    "\n",
    "# Step 4: Create a custom legend with stacked labels\n",
    "# Create a list of handle objects for the legend\n",
    "handles = []\n",
    "for i, label in enumerate(ethnic_labels):\n",
    "    handles.append(plt.Line2D([0], [0], marker='o', color='w', label=label,\n",
    "                                markerfacecolor=colors[i], markersize=10))\n",
    "\n",
    "# Add the legend to the plot\n",
    "plt.legend(handles=handles, title='Ethnic Groups', loc='upper right', bbox_to_anchor=(1.2, 1))\n",
    "\n",
    "\n",
    "\n",
    "plt.title('Ethnic Group Distribution', fontsize=16, fontweight='bold')\n",
    "plt.show()"
   ]
  },
  {
   "cell_type": "code",
   "execution_count": null,
   "metadata": {},
   "outputs": [],
   "source": [
    "age_summary = data_set['age'].describe()[['min', '25%', '50%', '75%', 'max']]\n",
    "print(\"Five-Number Summary for Age:\")\n",
    "print(age_summary)\n",
    "\n",
    "plt.figure(figsize=(8, 5))\n",
    "sns.boxplot(x='age', data=data_set)\n",
    "plt.title('Box Plot of Age')\n",
    "plt.show()\n",
    "\n"
   ]
  },
  {
   "cell_type": "code",
   "execution_count": null,
   "metadata": {},
   "outputs": [],
   "source": [
    "income_mean = data_set['income'].mean()\n",
    "income_std = data_set['income'].std()\n",
    "\n",
    "print(f\"Mean of Income: {income_mean}\")\n",
    "print(f\"Standard Deviation of Income: {income_std}\")\n",
    "\n",
    "# Histogram of income\n",
    "plt.figure(figsize=(8, 5))\n",
    "plt.hist(data_set['income'], bins=20, color='darkblue', edgecolor='green')\n",
    "plt.title('Histogram of Income')\n",
    "plt.xlabel('Income (in £1000)')\n",
    "plt.ylabel('Frequency')\n",
    "plt.show()"
   ]
  },
  {
   "cell_type": "code",
   "execution_count": null,
   "metadata": {},
   "outputs": [],
   "source": [
    "plt.figure(figsize=(8, 5))\n",
    "sns.scatterplot(x='absence', y='income', marker='*', c='red',s=150, data=data_set)\n",
    "plt.title('Scatter Plot of Income vs. Absence')\n",
    "plt.xlabel('Absence (Days)')\n",
    "plt.ylabel('Income (in £1000)')\n",
    "plt.show()"
   ]
  },
  {
   "cell_type": "code",
   "execution_count": 167,
   "metadata": {},
   "outputs": [
    {
     "name": "stdout",
     "output_type": "stream",
     "text": [
      "R-squared: 0.06243389452270087\n"
     ]
    },
    {
     "data": {
      "image/png": "[encoded data removed]",
      "text/plain": [
       "<Figure size 800x500 with 1 Axes>"
      ]
     },
     "metadata": {},
     "output_type": "display_data"
    }
   ],
   "source": [
    "# removed missing values from dataset\n",
    "X = data_cleaned[['absence']]\n",
    "y = data_cleaned[['income']]\n",
    "model = LinearRegression()\n",
    "model.fit(X, y)\n",
    "\n",
    "y_pred = model.predict(X)\n",
    "\n",
    "r2 = r2_score(y, y_pred)\n",
    "print(f\"R-squared: {r2}\")\n",
    "\n",
    "plt.figure(figsize=(8, 5))\n",
    "plt.scatter(data_cleaned['absence'], data_cleaned['income'], color='blue', label='Data')\n",
    "plt.plot(data_cleaned['absence'], y_pred, color='red', label='Regression Line')\n",
    "plt.title('Income vs. Absence with Regression Line')\n",
    "plt.xlabel('Absence (Days)')\n",
    "plt.ylabel('Income (in £1000)')\n",
    "plt.legend()\n",
    "plt.show()"
   ]
  },
  {
   "cell_type": "code",
   "execution_count": 169,
   "metadata": {},
   "outputs": [
    {
     "name": "stdout",
     "output_type": "stream",
     "text": [
      "R-squared: 0.061913392866861816\n"
     ]
    },
    {
     "data": {
      "image/png": "[encoded data removed]",
      "text/plain": [
       "<Figure size 800x500 with 1 Axes>"
      ]
     },
     "metadata": {},
     "output_type": "display_data"
    }
   ],
   "source": [
    "# fill missing values\n",
    "data_set['absence'] = data_set['absence'].fillna(data_set['absence'].mean())\n",
    "data_set['income'] = data_set['income'].fillna(data_set['income'].mean())\n",
    "\n",
    "X = data_set[['absence']]\n",
    "y = data_set[['income']]\n",
    "\n",
    "model = LinearRegression()\n",
    "model.fit(X, y)\n",
    "\n",
    "y_pred = model.predict(X)\n",
    "\n",
    "r2 = r2_score(y, y_pred)\n",
    "print(f\"R-squared: {r2}\")\n",
    "\n",
    "plt.figure(figsize=(8, 5))\n",
    "plt.scatter(data_set['absence'], data_set['income'], color='blue', label='Data')\n",
    "plt.plot(data_set['absence'], y_pred, color='red', label='Regression Line')\n",
    "plt.title('Income vs. Absence with Regression Line')\n",
    "plt.xlabel('Absence (Days)')\n",
    "plt.ylabel('Income (in £1000)')\n",
    "plt.legend()\n",
    "plt.show()"
   ]
  },
  {
   "cell_type": "code",
   "execution_count": 210,
   "metadata": {},
   "outputs": [],
   "source": [
    "#--Multiple Regression\n",
    "#Study a multiple regression model where satis (job satisfaction) is the dependent variable, and the following are independent variables: commit, autonom, income, skill, qual, age, and years.\n",
    "#Identify non-significant variables and simplify the model by removing them."
   ]
  },
  {
   "cell_type": "code",
   "execution_count": 206,
   "metadata": {},
   "outputs": [
    {
     "name": "stdout",
     "output_type": "stream",
     "text": [
      "                            OLS Regression Results                            \n",
      "==============================================================================\n",
      "Dep. Variable:                 income   R-squared:                       0.062\n",
      "Model:                            OLS   Adj. R-squared:                  0.048\n",
      "Method:                 Least Squares   F-statistic:                     4.488\n",
      "Date:                Tue, 22 Oct 2024   Prob (F-statistic):             0.0378\n",
      "Time:                        14:20:40   Log-Likelihood:                -143.93\n",
      "No. Observations:                  70   AIC:                             291.9\n",
      "Df Residuals:                      68   BIC:                             296.4\n",
      "Df Model:                           1                                         \n",
      "Covariance Type:            nonrobust                                         \n",
      "==============================================================================\n",
      "                 coef    std err          t      P>|t|      [0.025      0.975]\n",
      "------------------------------------------------------------------------------\n",
      "const         16.3064      0.390     41.813      0.000      15.528      17.085\n",
      "absence       -0.1427      0.067     -2.118      0.038      -0.277      -0.008\n",
      "==============================================================================\n",
      "Omnibus:                        2.677   Durbin-Watson:                   2.148\n",
      "Prob(Omnibus):                  0.262   Jarque-Bera (JB):                1.982\n",
      "Skew:                           0.390   Prob(JB):                        0.371\n",
      "Kurtosis:                       3.269   Cond. No.                         10.0\n",
      "==============================================================================\n",
      "\n",
      "Notes:\n",
      "[1] Standard Errors assume that the covariance matrix of the errors is correctly specified.\n"
     ]
    }
   ],
   "source": [
    "X_multi = data_set_with_mean[['commit', 'autonom', 'income', 'skill', 'qual', 'age', 'years']]\n",
    "y_multi = data_set_with_mean['satis']\n",
    "\n",
    "# Fit the multiple regression model\n",
    "multi_model = LinearRegression()\n",
    "multi_model.fit(X_multi, y_multi)\n",
    "\n",
    "# Add a constant to the model (required for statsmodels to include an intercept)\n",
    "X = sm.add_constant(X)\n",
    "\n",
    "# Step 5: Fit the multiple regression model\n",
    "model = sm.OLS(y, X).fit()\n",
    "\n",
    "# Step 6: View the summary of the model\n",
    "print(model.summary())\n",
    "\n"
   ]
  },
  {
   "cell_type": "code",
   "execution_count": 208,
   "metadata": {},
   "outputs": [
    {
     "name": "stdout",
     "output_type": "stream",
     "text": [
      "                            OLS Regression Results                            \n",
      "==============================================================================\n",
      "Dep. Variable:                 income   R-squared:                       1.000\n",
      "Model:                            OLS   Adj. R-squared:                  1.000\n",
      "Method:                 Least Squares   F-statistic:                 3.378e+29\n",
      "Date:                Tue, 22 Oct 2024   Prob (F-statistic):               0.00\n",
      "Time:                        14:32:47   Log-Likelihood:                 2144.3\n",
      "No. Observations:                  70   AIC:                            -4277.\n",
      "Df Residuals:                      64   BIC:                            -4263.\n",
      "Df Model:                           5                                         \n",
      "Covariance Type:            nonrobust                                         \n",
      "==============================================================================\n",
      "                 coef    std err          t      P>|t|      [0.025      0.975]\n",
      "------------------------------------------------------------------------------\n",
      "const        1.11e-15   1.32e-14      0.084      0.933   -2.52e-14    2.74e-14\n",
      "commit      8.327e-16   1.59e-15      0.525      0.602   -2.34e-15       4e-15\n",
      "autonom    -2.359e-16   6.88e-16     -0.343      0.733   -1.61e-15    1.14e-15\n",
      "income         1.0000   8.96e-16   1.12e+15      0.000       1.000       1.000\n",
      "skill       2.498e-16   1.54e-15      0.162      0.871   -2.82e-15    3.32e-15\n",
      "qual       -3.331e-16   1.23e-15     -0.270      0.788    -2.8e-15    2.13e-15\n",
      "==============================================================================\n",
      "Omnibus:                        2.762   Durbin-Watson:                   0.097\n",
      "Prob(Omnibus):                  0.251   Jarque-Bera (JB):                2.521\n",
      "Skew:                          -0.462   Prob(JB):                        0.284\n",
      "Kurtosis:                       2.896   Cond. No.                         168.\n",
      "==============================================================================\n",
      "\n",
      "Notes:\n",
      "[1] Standard Errors assume that the covariance matrix of the errors is correctly specified.\n"
     ]
    }
   ],
   "source": [
    "X_simplified = data_set_with_mean[['commit', 'autonom', 'income', 'skill', 'qual']]  # Remove 'age' and 'years'\n",
    "\n",
    "# Add a constant to the simplified model\n",
    "X_simplified = sm.add_constant(X_simplified)\n",
    "\n",
    "# Step 8: Refit the simplified model\n",
    "model_simplified = sm.OLS(y, X_simplified).fit()\n",
    "\n",
    "# Step 9: View the summary of the simplified model\n",
    "print(model_simplified.summary())"
   ]
  },
  {
   "cell_type": "code",
   "execution_count": 217,
   "metadata": {},
   "outputs": [
    {
     "name": "stdout",
     "output_type": "stream",
     "text": [
      "Confidence Interval for Job Satisfaction (satis): (10.062020962148376, 11.614449626086921)\n",
      "Confidence Interval for the Difference in Job Satisfaction between Men and Women: (-1.3849796796368963, 1.8464694864777484)\n"
     ]
    }
   ],
   "source": [
    "mean_satis = data_set_with_mean['satis'].mean()\n",
    "std_satis = data_set_with_mean['satis'].std()\n",
    "n_satis = len(data_set_with_mean['satis'])\n",
    "#print(f\"Mean of satis: {mean_satis}, Standard Deviation of satis: {std_satis}, n = {n_satis}\")\n",
    "# Calculate standard error\n",
    "se_satis = std_satis / np.sqrt(n_satis)\n",
    "\n",
    "# Calculate 95% confidence interval\n",
    "ci_satis = stats.t.interval(0.95, df=n_satis-1, loc=mean_satis, scale=se_satis)\n",
    "ci_satis_clean = tuple(map(float, ci_satis))\n",
    "print(f\"Confidence Interval for Job Satisfaction (satis): {ci_satis_clean}\")\n",
    "\n",
    "satis_men = data_set_with_mean[data_set_with_mean['gender'] == 1]['satis']\n",
    "satis_women = data_set[data_set_with_mean['gender'] == 2]['satis']\n",
    "\n",
    "mean_men = satis_men.mean()\n",
    "mean_women = satis_women.mean()\n",
    "\n",
    "std_men = satis_men.std()\n",
    "std_women = satis_women.std()\n",
    "\n",
    "n_men = len(satis_men)\n",
    "n_women = len(satis_women)\n",
    "\n",
    "# Standard error of the difference\n",
    "se_diff = np.sqrt((std_men**2 / n_men) + (std_women**2 / n_women))\n",
    "\n",
    "# Mean difference\n",
    "mean_diff = mean_men - mean_women\n",
    "\n",
    "# 95% confidence interval for the difference in means\n",
    "ci_diff = stats.t.interval(0.95, df=min(n_men, n_women)-1, loc=mean_diff, scale=se_diff)\n",
    "ci_diff_clean = tuple(map(float, ci_diff))\n",
    "print(f\"Confidence Interval for the Difference in Job Satisfaction between Men and Women: {ci_diff_clean}\")"
   ]
  },
  {
   "cell_type": "code",
   "execution_count": null,
   "metadata": {},
   "outputs": [],
   "source": [
    "#5. Mann-Whitney and Kruskal-Wallis Tests\n",
    "#Use the Mann-Whitney-Wilcoxon test to check if there is a significant difference in skill levels between men and women. Compare the results with the confidence interval.\n",
    "#Use the Kruskal-Wallis test to determine if there is a significant difference in absence among ethnic groups. Compare this with results from One-Way ANOVA."
   ]
  },
  {
   "cell_type": "code",
   "execution_count": 220,
   "metadata": {},
   "outputs": [
    {
     "name": "stdout",
     "output_type": "stream",
     "text": [
      "Mann-Whitney U Test Statistic: 520.5, p-value: 0.4032893852621183\n",
      "Fail to reject the null hypothesis: There is no significant difference in skill levels between men and women.\n"
     ]
    }
   ],
   "source": [
    "##Mann-Whitney-Wilcoxon Test\n",
    "# Split data into two groups based on gender\n",
    "men_skills = data_cleaned[data_cleaned['gender'] == 1]['skill']\n",
    "women_skills = data_cleaned[data_cleaned['gender'] == 2]['skill']\n",
    "\n",
    "# Perform Mann-Whitney U test\n",
    "stat, p_value = mannwhitneyu(men_skills, women_skills)\n",
    "\n",
    "# Display the results\n",
    "print(f\"Mann-Whitney U Test Statistic: {stat}, p-value: {p_value}\")\n",
    "\n",
    "if p_value < 0.05:\n",
    "    print(\"Reject the null hypothesis: There is a significant difference in skill levels between men and women.\")\n",
    "else:\n",
    "    print(\"Fail to reject the null hypothesis: There is no significant difference in skill levels between men and women.\")"
   ]
  },
  {
   "cell_type": "code",
   "execution_count": 222,
   "metadata": {},
   "outputs": [
    {
     "name": "stdout",
     "output_type": "stream",
     "text": [
      "Kruskal-Wallis Test Statistic: 2.4084534950343763, p-value: 0.49206294724690613\n",
      "Fail to reject the null hypothesis: There is no significant difference in absence among ethnic groups.\n"
     ]
    }
   ],
   "source": [
    "## Kruskal-Wallis Test\n",
    "\n",
    "# Split data by ethnic groups\n",
    "ethnic_groups = [data_cleaned[data_cleaned['ethnicgp'] == i]['absence'] for i in data_cleaned['ethnicgp'].unique()]\n",
    "\n",
    "# Perform Kruskal-Wallis H test\n",
    "stat, p_value = kruskal(*ethnic_groups)\n",
    "\n",
    "print(f\"Kruskal-Wallis Test Statistic: {stat}, p-value: {p_value}\")\n",
    "\n",
    "if p_value < 0.05:\n",
    "    print(\"Reject the null hypothesis: There is a significant difference in absence among ethnic groups.\")\n",
    "else:\n",
    "    print(\"Fail to reject the null hypothesis: There is no significant difference in absence among ethnic groups.\")"
   ]
  }
 ],
 "metadata": {
  "kernelspec": {
   "display_name": "venv",
   "language": "python",
   "name": "python3"
  },
  "language_info": {
   "codemirror_mode": {
    "name": "ipython",
    "version": 3
   },
   "file_extension": ".py",
   "mimetype": "text/x-python",
   "name": "python",
   "nbconvert_exporter": "python",
   "pygments_lexer": "ipython3",
   "version": "3.12.0"
  }
 },
 "nbformat": 4,
 "nbformat_minor": 2
}
