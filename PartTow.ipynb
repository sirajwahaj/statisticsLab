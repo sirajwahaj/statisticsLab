{
 "cells": [
  {
   "cell_type": "markdown",
   "metadata": {},
   "source": [
    "# Heart Disease Dataset\n",
    "\n",
    "## Overview\n",
    "This dataset contains information about patients and various attributes related to heart disease, collected from Cleveland Clinic and made available on Kaggle. It includes both qualitative and quantitative variables, which are ideal for performing analyses such as descriptive statistics, confidence intervals, hypothesis testing, correlation analysis, and multiple linear regression.\n",
    "\n",
    "**Source**: [Kaggle - Heart Disease Data](https://www.kaggle.com/datasets/redwankarimsony/heart-disease-data/data)\n",
    "\n",
    "---\n",
    "\n",
    "## Variables\n",
    "\n",
    "### Quantitative Variables\n",
    "- **id**: Unique identifier for each patient\n",
    "- **age**: Age of the patient in years\n",
    "- **trestbps**: Resting blood pressure in mm Hg\n",
    "- **chol**: Serum cholesterol level in mg/dl\n",
    "- **thalch**: Maximum heart rate achieved\n",
    "- **oldpeak**: ST depression induced by exercise relative to rest\n",
    "- **ca**: Number of major vessels (0-3) colored by fluoroscopy\n",
    "- **num**: Diagnosis of heart disease (angiographic disease status), where `0` indicates no disease and `1-4` indicates presence of disease\n",
    "\n",
    "### Qualitative Variables\n",
    "- **sex**: Sex of the patient, either `Male` or `Female`\n",
    "- **dataset**: Source of the data, e.g., Cleveland\n",
    "- **cp**: Chest pain type, with categories `typical angina`, `asymptomatic`, `non-anginal`, or `atypical angina`\n",
    "- **fbs**: Fasting blood sugar > 120 mg/dl, represented as `TRUE` if true and `FALSE` otherwise\n",
    "- **restecg**: Resting electrocardiographic results, either `normal` or `lv hypertrophy` (left ventricular hypertrophy)\n",
    "- **exang**: Exercise-induced angina, with `TRUE` if present and `FALSE` otherwise\n",
    "- **slope**: Slope of the peak exercise ST segment, categorized as `upsloping`, `flat`, or `downsloping`\n",
    "- **thal**: Type of thalassemia, with values `normal`, `fixed defect`, or `reversable defect`\n",
    "\n",
    "---\n",
    "\n",
    "## Potential Analyses\n",
    "\n",
    "This dataset provides opportunities to explore relationships and patterns in heart disease-related factors. Potential analyses include:\n",
    "\n",
    "1. **Descriptive Statistics**: Calculate summary statistics for both quantitative and qualitative variables.\n",
    "2. **Confidence Intervals**: Compute confidence intervals for variables like `trestbps`, `chol`, and `thalch`.\n",
    "3. **T-test/ANOVA**: Conduct group comparisons (e.g., chest pain types or sex) to explore mean differences.\n",
    "4. **Non-Parametric Test**: Analyze differences between groups using non-parametric alternatives to traditional tests.\n",
    "5. **Correlation Analysis**: Examine the relationships between `chol`, `trestbps`, `thalch`, and other variables.\n",
    "6. **Multiple Linear Regression**: Use factors like `age`, `chol`, and `trestbps` to predict the presence of heart disease.\n",
    "\n",
    "---\n",
    "\n",
    "This dataset provides a robust foundation for statistical analyses to study factors related to heart disease.\n"
   ]
  },
  {
   "cell_type": "code",
   "execution_count": 1,
   "metadata": {},
   "outputs": [
    {
     "name": "stdout",
     "output_type": "stream",
     "text": [
      "Path to dataset files: C:\\Users\\Wahaj\\.cache\\kagglehub\\datasets\\redwankarimsony\\heart-disease-data\\versions\\6\n"
     ]
    }
   ],
   "source": [
    "import kagglehub\n",
    "\n",
    "# Download latest version\n",
    "path = kagglehub.dataset_download(\"redwankarimsony/heart-disease-data\")\n",
    "\n",
    "print(\"Path to dataset files:\", path)"
   ]
  },
  {
   "cell_type": "markdown",
   "metadata": {},
   "source": []
  },
  {
   "cell_type": "code",
   "execution_count": 2,
   "metadata": {},
   "outputs": [
    {
     "ename": "ModuleNotFoundError",
     "evalue": "No module named 'ucimlrepo'",
     "output_type": "error",
     "traceback": [
      "\u001b[1;31m---------------------------------------------------------------------------\u001b[0m",
      "\u001b[1;31mModuleNotFoundError\u001b[0m                       Traceback (most recent call last)",
      "Cell \u001b[1;32mIn[2], line 1\u001b[0m\n\u001b[1;32m----> 1\u001b[0m \u001b[38;5;28;01mfrom\u001b[39;00m \u001b[38;5;21;01mucimlrepo\u001b[39;00m \u001b[38;5;28;01mimport\u001b[39;00m fetch_ucirepo \n\u001b[0;32m      3\u001b[0m \u001b[38;5;66;03m# fetch dataset \u001b[39;00m\n\u001b[0;32m      4\u001b[0m early_stage_diabetes_risk_prediction \u001b[38;5;241m=\u001b[39m fetch_ucirepo(\u001b[38;5;28mid\u001b[39m\u001b[38;5;241m=\u001b[39m\u001b[38;5;241m529\u001b[39m) \n",
      "\u001b[1;31mModuleNotFoundError\u001b[0m: No module named 'ucimlrepo'"
     ]
    }
   ],
   "source": [
    "from ucimlrepo import fetch_ucirepo \n",
    "  \n",
    "# fetch dataset \n",
    "early_stage_diabetes_risk_prediction = fetch_ucirepo(id=529) \n",
    "  \n",
    "# data (as pandas dataframes) \n",
    "X = early_stage_diabetes_risk_prediction.data.features \n",
    "y = early_stage_diabetes_risk_prediction.data.targets \n",
    "  \n",
    "# metadata \n",
    "print(early_stage_diabetes_risk_prediction.metadata) \n",
    "  \n",
    "# variable information \n",
    "print(early_stage_diabetes_risk_prediction.variables) \n"
   ]
  }
 ],
 "metadata": {
  "kernelspec": {
   "display_name": "venv",
   "language": "python",
   "name": "python3"
  },
  "language_info": {
   "codemirror_mode": {
    "name": "ipython",
    "version": 3
   },
   "file_extension": ".py",
   "mimetype": "text/x-python",
   "name": "python",
   "nbconvert_exporter": "python",
   "pygments_lexer": "ipython3",
   "version": "3.12.0"
  }
 },
 "nbformat": 4,
 "nbformat_minor": 2
}
